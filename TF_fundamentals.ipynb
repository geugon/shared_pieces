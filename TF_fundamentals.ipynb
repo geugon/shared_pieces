{
 "cells": [
  {
   "cell_type": "markdown",
   "metadata": {},
   "source": [
    "Significant material copied from\n",
    "https://www.toptal.com/machine-learning/tensorflow-machine-learning-tutorial"
   ]
  },
  {
   "cell_type": "code",
   "execution_count": 1,
   "metadata": {
    "collapsed": true
   },
   "outputs": [],
   "source": [
    "import tensorflow as tf\n",
    "import numpy as np\n",
    "import matplotlib.pyplot as plt\n",
    "\n",
    "%matplotlib inline"
   ]
  },
  {
   "cell_type": "markdown",
   "metadata": {},
   "source": [
    "## Simple Algerbra"
   ]
  },
  {
   "cell_type": "code",
   "execution_count": 12,
   "metadata": {
    "collapsed": false
   },
   "outputs": [
    {
     "name": "stdout",
     "output_type": "stream",
     "text": [
      "[9. 9.]\n"
     ]
    }
   ],
   "source": [
    "x = tf.placeholder(tf.float32, name=\"x\")\n",
    "a = tf.constant(5.0, name=\"a\", dtype=tf.float32)\n",
    "b = tf.constant(-1, name=\"b\", dtype=tf.float32)\n",
    "\n",
    "y = tf.add(tf.multiply(a, x), b)\n",
    "\n",
    "init = tf.global_variables_initializer()\n",
    "\n",
    "with tf.Session() as session:\n",
    "    session.run(init)\n",
    "    print(session.run(y, feed_dict={x:[2,2]}))"
   ]
  },
  {
   "cell_type": "code",
   "execution_count": 3,
   "metadata": {
    "collapsed": false
   },
   "outputs": [
    {
     "name": "stdout",
     "output_type": "stream",
     "text": [
      "[1.         2.71828183 7.3890561 ]\n",
      "2.7182818284590455\n"
     ]
    }
   ],
   "source": [
    "tensor_1d = np.array([0, 1, 2])\n",
    "tensor = tf.convert_to_tensor(tensor_1d, dtype=tf.float64)\n",
    "with tf.Session() as session:\n",
    "    print(session.run(tf.exp(tensor)))\n",
    "    print(session.run(tf.exp(tensor)[1]))"
   ]
  },
  {
   "cell_type": "markdown",
   "metadata": {},
   "source": [
    "## Matrix Ops"
   ]
  },
  {
   "cell_type": "code",
   "execution_count": 4,
   "metadata": {
    "collapsed": false
   },
   "outputs": [
    {
     "name": "stdout",
     "output_type": "stream",
     "text": [
      "[[1. 4. 7.]\n",
      " [2. 9. 8.]\n",
      " [3. 6. 5.]]\n",
      "[[ 30.  44.  30.]\n",
      " [ 82. 137.  96.]\n",
      " [ 74. 126.  94.]]\n",
      "[[ 0.05769233 -0.26923078  0.28846157]\n",
      " [-0.423077    0.30769232 -0.11538462]\n",
      " [ 0.5961539  -0.11538462 -0.01923078]]\n",
      "-51.999985\n",
      "[[ 0.0769231 ]\n",
      " [-0.23076926]\n",
      " [ 0.46153852]]\n"
     ]
    }
   ],
   "source": [
    "x = tf.convert_to_tensor(\n",
    "    np.array(\n",
    "        [\n",
    "            (1, 2, 3),\n",
    "            (4, 9, 6),\n",
    "            (7, 8, 5)\n",
    "        ]), tf.float32)\n",
    "\n",
    "m_tranpose = tf.transpose(x)\n",
    "m_mul = tf.matmul(x, x)\n",
    "m_det = tf.matrix_determinant(x)\n",
    "m_inv = tf.matrix_inverse(x)\n",
    "m_solve = tf.matrix_solve(x, [[1], [1], [1]])\n",
    "\n",
    "with tf.Session() as session:\n",
    "    print (session.run(m_tranpose))\n",
    "    print (session.run(m_mul))\n",
    "    print (session.run(m_inv))\n",
    "    print (session.run(m_det))\n",
    "    print (session.run(m_solve))"
   ]
  },
  {
   "cell_type": "code",
   "execution_count": 5,
   "metadata": {
    "collapsed": false
   },
   "outputs": [
    {
     "name": "stdout",
     "output_type": "stream",
     "text": [
      "Reduce sum without passed axis parameter:  45.0\n",
      "Reduce sum with passed axis=1:  [ 6. 19. 20.]\n",
      "Reduce product without passed axis parameter:  362880.0\n",
      "Reduce product with passed axis=1:  [  6. 216. 280.]\n",
      "Reduce min without passed axis parameter:  1.0\n",
      "Reduce min with passed axis=1:  [1. 4. 5.]\n",
      "Reduce max without passed axis parameter:  9.0\n",
      "Reduce max with passed axis=1:  [3. 9. 8.]\n",
      "Reduce mean without passed axis parameter:  5.0\n",
      "Reduce mean with passed axis=1:  [2.        6.3333335 6.6666665]\n"
     ]
    }
   ],
   "source": [
    "red_sum_0 = tf.reduce_sum(x)\n",
    "red_sum = tf.reduce_sum(x, axis=1)\n",
    "\n",
    "red_prod_0 = tf.reduce_prod(x)\n",
    "red_prod = tf.reduce_prod(x, axis=1)\n",
    "\n",
    "red_min_0 = tf.reduce_min(x)\n",
    "red_min = tf.reduce_min(x, axis=1)\n",
    "\n",
    "red_max_0 = tf.reduce_max(x)\n",
    "red_max = tf.reduce_max(x, axis=1)\n",
    "\n",
    "red_mean_0 = tf.reduce_mean(x)\n",
    "red_mean = tf.reduce_mean(x, axis=1)\n",
    "\n",
    "with tf.Session() as session:\n",
    "    print (\"Reduce sum without passed axis parameter: \", session.run(red_sum_0))\n",
    "    print (\"Reduce sum with passed axis=1: \", session.run(red_sum))\n",
    "\n",
    "    print (\"Reduce product without passed axis parameter: \", session.run(red_prod_0))\n",
    "    print (\"Reduce product with passed axis=1: \", session.run(red_prod))\n",
    "\n",
    "    print (\"Reduce min without passed axis parameter: \", session.run(red_min_0))\n",
    "    print (\"Reduce min with passed axis=1: \", session.run(red_min))\n",
    "\n",
    "    print (\"Reduce max without passed axis parameter: \", session.run(red_max_0))\n",
    "    print (\"Reduce max with passed axis=1: \", session.run(red_max))\n",
    "\n",
    "    print (\"Reduce mean without passed axis parameter: \", session.run(red_mean_0))\n",
    "    print (\"Reduce mean with passed axis=1: \", session.run(red_mean))"
   ]
  },
  {
   "cell_type": "markdown",
   "metadata": {},
   "source": [
    "## Digging In"
   ]
  },
  {
   "cell_type": "code",
   "execution_count": 6,
   "metadata": {
    "collapsed": false
   },
   "outputs": [
    {
     "name": "stdout",
     "output_type": "stream",
     "text": [
      "3.0\n"
     ]
    }
   ],
   "source": [
    "x = tf.constant(-2.0, name=\"x\", dtype=tf.float32)\n",
    "a = tf.constant(5.0, name=\"a\", dtype=tf.float32)\n",
    "b = tf.constant(13.0, name=\"b\", dtype=tf.float32)\n",
    "\n",
    "\n",
    "y = tf.Variable(tf.add(tf.multiply(a, x), b))\n",
    "\n",
    "\n",
    "init = tf.global_variables_initializer()\n",
    "\n",
    "\n",
    "with tf.Session() as session:\n",
    "    merged = tf.summary.merge_all()\n",
    "    writer = tf.summary.FileWriter(\"logs\", session.graph)\n",
    "\n",
    "\n",
    "    session.run(init)\n",
    "    print(session.run(y))"
   ]
  },
  {
   "cell_type": "markdown",
   "metadata": {},
   "source": [
    "## KNN"
   ]
  },
  {
   "cell_type": "code",
   "execution_count": 7,
   "metadata": {
    "collapsed": false
   },
   "outputs": [],
   "source": [
    "ndim = 20\n",
    "ntrain = 1000\n",
    "ntest = 100\n",
    "assert ndim>=2\n",
    "\n",
    "# Generate some data to work with\n",
    "X_train = np.random.rand(ntrain,ndim)\n",
    "y_train = np.where(X_train[:,0]>X_train[:,1], 1, 0).reshape(ntrain,1)\n",
    "X_test = np.random.rand(ntest,ndim)\n",
    "y_test = np.where(X_test[:,0]>X_test[:,1], 1, 0).reshape(ntest,1)"
   ]
  },
  {
   "cell_type": "code",
   "execution_count": 8,
   "metadata": {
    "collapsed": false
   },
   "outputs": [
    {
     "name": "stdout",
     "output_type": "stream",
     "text": [
      "Missed: 30 -- Total: 100\n"
     ]
    }
   ],
   "source": [
    "# Single Neighbor\n",
    "train_pl = tf.placeholder(\"float\", [None, ndim])\n",
    "test_pl = tf.placeholder(\"float\", [ndim])\n",
    "\n",
    "deltas = train_pl-test_pl\n",
    "distance = tf.reduce_sum(tf.square(deltas), axis=1)\n",
    "nearest = tf.argmin(distance, 0)\n",
    "\n",
    "with tf.Session() as tf_session:\n",
    "    missed = 0\n",
    "\n",
    "    for i in range(len(y_test)):\n",
    "        knn_index = tf_session.run(nearest, feed_dict={train_pl: X_train, test_pl: X_test[i]})\n",
    "#         print(\"Predicted class {} -- True class {}\".format(y_train[knn_index], y_test[i]))\n",
    "        if y_train[knn_index] != y_test[i]:\n",
    "            missed += 1\n",
    "\n",
    "#     tf.summary.FileWriter(\"logs\", tf_session.graph)\n",
    "    print(\"Missed: {} -- Total: {}\".format(missed, len(y_test)))"
   ]
  },
  {
   "cell_type": "code",
   "execution_count": 9,
   "metadata": {
    "collapsed": false
   },
   "outputs": [
    {
     "name": "stdout",
     "output_type": "stream",
     "text": [
      "Missed: 23 -- Total: 100\n"
     ]
    }
   ],
   "source": [
    "# Weighted by Distance (sort a gaussian mixture model)\n",
    "train_pl = tf.placeholder(\"float\", [None, ndim])\n",
    "train_label_pl = tf.placeholder(\"float\", [None, 1])\n",
    "test_pl = tf.placeholder(\"float\", [ndim])\n",
    "\n",
    "deltas = train_pl-test_pl\n",
    "distance = tf.reduce_sum(tf.square(deltas), axis=1)\n",
    "weight = (1/distance)/tf.reduce_sum(1/distance)\n",
    "proba = tf.reduce_sum(weight*tf.transpose(train_label_pl))\n",
    "pred = tf.round(proba)\n",
    "\n",
    "feed_dict={train_pl: X_train, test_pl: X_test[i], train_label_pl: y_train}\n",
    "\n",
    "with tf.Session() as tf_session:\n",
    "    missed = 0\n",
    "\n",
    "    for i in range(len(y_test)):\n",
    "        feed_dict={train_pl: X_train, test_pl: X_test[i], train_label_pl: y_train}\n",
    "#         print(X_test[i])\n",
    "#         print(\"deltas:\\t\", tf_session.run(deltas, feed_dict))\n",
    "#         print(\"distance:\\t\", tf_session.run(distance, feed_dict))\n",
    "#         print(\"weight:\\t\", tf_session.run(weight, feed_dict))\n",
    "#         print(\"proba:\\t\", tf_session.run(proba, feed_dict))\n",
    "        pred_value = tf_session.run(pred, feed_dict)\n",
    "#         print(int(pred_value))\n",
    "#         print(int(y_test[i]))\n",
    "        if int(pred_value) != int(y_test[i]):\n",
    "            missed += 1\n",
    "    print(\"Missed: {} -- Total: {}\".format(missed, len(y_test)))"
   ]
  },
  {
   "cell_type": "markdown",
   "metadata": {},
   "source": [
    "## Linear Regression"
   ]
  },
  {
   "cell_type": "code",
   "execution_count": 10,
   "metadata": {
    "collapsed": false
   },
   "outputs": [
    {
     "ename": "NameError",
     "evalue": "name 'generate_test_values' is not defined",
     "output_type": "error",
     "traceback": [
      "\u001b[0;31m----------------------------------------------------------------------\u001b[0m",
      "\u001b[0;31mNameError\u001b[0m                            Traceback (most recent call last)",
      "\u001b[0;32m<ipython-input-10-9adbe463f33e>\u001b[0m in \u001b[0;36m<module>\u001b[0;34m()\u001b[0m\n\u001b[0;32m----> 1\u001b[0;31m \u001b[0mtrain_dataset\u001b[0m\u001b[0;34m,\u001b[0m \u001b[0mtrain_values\u001b[0m \u001b[0;34m=\u001b[0m \u001b[0mgenerate_test_values\u001b[0m\u001b[0;34m(\u001b[0m\u001b[0;34m)\u001b[0m\u001b[0;34m\u001b[0m\u001b[0m\n\u001b[0m",
      "\u001b[0;31mNameError\u001b[0m: name 'generate_test_values' is not defined"
     ]
    }
   ],
   "source": [
    "train_dataset, train_values = generate_test_values()"
   ]
  },
  {
   "cell_type": "code",
   "execution_count": null,
   "metadata": {
    "collapsed": true
   },
   "outputs": [],
   "source": [
    "x = tf.placeholder(tf.float32, [None, 3], name=\"x\")\n",
    "W = tf.Variable(tf.zeros([3, 1]), name=\"W\")\n",
    "b = tf.Variable(tf.zeros([1]), name=\"b\")\n",
    "y = tf.placeholder(tf.float32, [None, 1])\n",
    "\n",
    "model = tf.add(tf.matmul(x, W), b)\n",
    "cost = tf.reduce_mean(tf.square(y - model))\n",
    "train = tf.train.GradientDescentOptimizer(learn_rate).minimize(cost)\n",
    "\n",
    "init = tf.global_variables_initializer()\n",
    "\n",
    "with tf.Session() as session:\n",
    "    session.run(init)\n",
    "    feed_dict={\n",
    "            x: train_dataset,\n",
    "            y: train_values\n",
    "    }\n",
    "\n",
    "    for _ in range(iterations):\n",
    "        session.run(train, feed_dict)\n",
    "\n",
    "    print(\"cost = {}\".format(session.run(cost, feed_dict)))\n",
    "    print(\"W = {}\".format(session.run(W)))\n",
    "    print(\"b = {}\".format(session.run(b)))"
   ]
  }
 ],
 "metadata": {
  "anaconda-cloud": {},
  "kernelspec": {
   "display_name": "Python [conda env:tensorflow]",
   "language": "python",
   "name": "conda-env-tensorflow-py"
  },
  "language_info": {
   "codemirror_mode": {
    "name": "ipython",
    "version": 3
   },
   "file_extension": ".py",
   "mimetype": "text/x-python",
   "name": "python",
   "nbconvert_exporter": "python",
   "pygments_lexer": "ipython3",
   "version": "3.5.6"
  }
 },
 "nbformat": 4,
 "nbformat_minor": 1
}
