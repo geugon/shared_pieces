{
 "cells": [
  {
   "cell_type": "code",
   "execution_count": 1,
   "metadata": {
    "collapsed": false
   },
   "outputs": [],
   "source": [
    "import pandas as pd\n",
    "import numpy as np\n",
    "\n",
    "from scipy.stats import beta\n",
    "from sklearn.cluster import KMeans\n",
    "\n",
    "import matplotlib.pyplot as plt\n",
    "%matplotlib inline"
   ]
  },
  {
   "cell_type": "markdown",
   "metadata": {},
   "source": [
    "## Get Data"
   ]
  },
  {
   "cell_type": "code",
   "execution_count": 2,
   "metadata": {
    "collapsed": false
   },
   "outputs": [],
   "source": [
    "# df = pd.read_csv(\"emailResponse.csv\")\n",
    "# attempts = df.iloc[:,1:25].values\n",
    "# success = df.iloc[:,25:49].values\n",
    "# failure = attempts - success"
   ]
  },
  {
   "cell_type": "code",
   "execution_count": 3,
   "metadata": {
    "collapsed": false
   },
   "outputs": [],
   "source": [
    "#Generate Fake data\n",
    "tmp = np.random.rand(10000,7)\n",
    "true_rate = (tmp[:,:-2]*tmp[:,1:-1]*tmp[:,2:]\n",
    "             *np.min(tmp,axis=1).reshape(-1,1)\n",
    "             *np.array([0.1,0.2,0.5,0.2,0.1]).reshape(1,-1))\n",
    "\n",
    "attempts = np.random.choice(10,true_rate.shape)\n",
    "success = np.random.binomial(attempts,true_rate)\n",
    "failure = attempts - success"
   ]
  },
  {
   "cell_type": "code",
   "execution_count": 52,
   "metadata": {
    "collapsed": false
   },
   "outputs": [
    {
     "data": {
      "text/plain": [
       "Index(['DigitalMarketingID', 'Sent8am', 'Sent10am', 'Sent12pm', 'Sent2pm',\n",
       "       'Sent4pm', 'Sent6pm', 'Sent8pm', 'Sent10pm', 'Ordered8am',\n",
       "       'Ordered10am', 'Ordered12pm', 'Ordered2pm', 'Ordered4pm', 'Ordered6pm',\n",
       "       'Ordered8pm', 'Orderd10pm', 'DOW', 'GroupNumber'],\n",
       "      dtype='object')"
      ]
     },
     "execution_count": 52,
     "metadata": {},
     "output_type": "execute_result"
    }
   ],
   "source": [
    "df = pd.read_csv('~/Downloads/MultiArmBanditTestData.csv')\n",
    "df.columns"
   ]
  },
  {
   "cell_type": "code",
   "execution_count": 69,
   "metadata": {
    "collapsed": false
   },
   "outputs": [],
   "source": [
    "success = df[['Ordered8am','Ordered10am', 'Ordered12pm', 'Ordered2pm', 'Ordered4pm', 'Ordered6pm','Ordered8pm', 'Orderd10pm']].values\n",
    "failure = df[['Sent8am', 'Sent10am', 'Sent12pm', 'Sent2pm','Sent4pm', 'Sent6pm', 'Sent8pm', 'Sent10pm']].values"
   ]
  },
  {
   "cell_type": "code",
   "execution_count": 70,
   "metadata": {
    "collapsed": false
   },
   "outputs": [
    {
     "data": {
      "text/plain": [
       "array([[0., 0., 0., ..., 0., 0., 0.],\n",
       "       [0., 0., 0., ..., 0., 0., 0.],\n",
       "       [0., 0., 0., ..., 0., 0., 0.],\n",
       "       ...,\n",
       "       [0., 0., 0., ..., 0., 0., 0.],\n",
       "       [0., 0., 0., ..., 0., 0., 0.],\n",
       "       [0., 0., 0., ..., 0., 0., 0.]])"
      ]
     },
     "execution_count": 70,
     "metadata": {},
     "output_type": "execute_result"
    }
   ],
   "source": [
    "smoothing = 1e-9\n",
    "success_rate = success/(success+failure+smoothing)\n",
    "success_rate"
   ]
  },
  {
   "cell_type": "markdown",
   "metadata": {},
   "source": [
    "## Global Estimates"
   ]
  },
  {
   "cell_type": "code",
   "execution_count": 71,
   "metadata": {
    "collapsed": true
   },
   "outputs": [],
   "source": [
    "#a = success\n",
    "#b = failure\n",
    "#mean = a/(a+b)\n",
    "#var = (1-mean)*(mean)/(a+b)\n",
    "\n",
    "#(a+b) = N = (1-mean)*(mean)/var\n",
    "# a = mean*(a+b) = mean*(N)\n",
    "# b = (1-mean)*(a+b)= (1-mean)*(N)\n",
    "\n",
    "def estimate_history(mean, var):\n",
    "    N = (1-mean)*(mean)/var\n",
    "    a = N*mean\n",
    "    b = N*(1-mean)\n",
    "    return a, b"
   ]
  },
  {
   "cell_type": "code",
   "execution_count": 72,
   "metadata": {
    "collapsed": false
   },
   "outputs": [
    {
     "data": {
      "text/plain": [
       "(0.9, 8.1)"
      ]
     },
     "execution_count": 72,
     "metadata": {},
     "output_type": "execute_result"
    }
   ],
   "source": [
    "estimate_history(0.1, 0.01)"
   ]
  },
  {
   "cell_type": "code",
   "execution_count": 74,
   "metadata": {
    "collapsed": false
   },
   "outputs": [
    {
     "data": {
      "text/plain": [
       "(array([       nan, 0.00192394,        nan, 0.00134037, 0.0010584 ,\n",
       "        0.00124301, 0.00113092, 0.00127008]),\n",
       " array([           nan, 1.82890094e-08,            nan, 5.45672958e-10,\n",
       "        8.37098217e-11, 2.74338611e-10, 2.09087116e-09, 1.22980322e-08]))"
      ]
     },
     "execution_count": 74,
     "metadata": {},
     "output_type": "execute_result"
    }
   ],
   "source": [
    "global_success = success.sum(axis=0)\n",
    "# print(global_success)\n",
    "global_failure = failure.sum(axis=0)\n",
    "# print(global_failure)\n",
    "global_mean, global_var = beta.stats(global_success,global_success + global_failure)\n",
    "global_mean, global_var"
   ]
  },
  {
   "cell_type": "code",
   "execution_count": 75,
   "metadata": {
    "collapsed": false
   },
   "outputs": [
    {
     "data": {
      "text/plain": [
       "array([0.00000000e+00, 1.84250067e-06, 0.00000000e+00, 1.30635174e-04,\n",
       "       1.17335266e-04, 9.60132918e-05, 2.91660369e-05, 4.11165771e-06])"
      ]
     },
     "execution_count": 75,
     "metadata": {},
     "output_type": "execute_result"
    }
   ],
   "source": [
    "success_rate.var(axis=0)"
   ]
  },
  {
   "cell_type": "code",
   "execution_count": 76,
   "metadata": {
    "collapsed": false
   },
   "outputs": [
    {
     "data": {
      "text/plain": [
       "(array([       nan, 1.98540175,        nan, 0.01373417, 0.00953705,\n",
       "        0.01607226, 0.04379865, 0.39065837]),\n",
       " array([          nan, 1029.96155832,           nan,   10.2328477 ,\n",
       "           9.00124783,   12.91403401,   38.68467443,  307.19465892]))"
      ]
     },
     "execution_count": 76,
     "metadata": {},
     "output_type": "execute_result"
    }
   ],
   "source": [
    "s_est, f_est = estimate_history(global_mean, global_var + success_rate.var(axis=0))\n",
    "s_est, f_est"
   ]
  },
  {
   "cell_type": "code",
   "execution_count": 39,
   "metadata": {
    "collapsed": false
   },
   "outputs": [
    {
     "data": {
      "text/plain": [
       "[<matplotlib.lines.Line2D at 0x7feb5be3d320>]"
      ]
     },
     "execution_count": 39,
     "metadata": {},
     "output_type": "execute_result"
    },
    {
     "data": {
      "image/png": "[encoded data removed]",
      "text/plain": [
       "<Figure size 432x288 with 1 Axes>"
      ]
     },
     "metadata": {
      "needs_background": "light"
     },
     "output_type": "display_data"
    }
   ],
   "source": [
    "a, b = 1, 9\n",
    "# mean, var, skew, kurt = beta.stats(a, b, moments='mvsk')\n",
    "\n",
    "x = np.linspace(beta.ppf(1e-6, a, b),\n",
    "              beta.ppf(1-1e-6, a, b), 100)\n",
    "plt.plot(x, beta.pdf(x, a, b),\n",
    "         'r-', lw=5, alpha=0.6, label='beta pdf')"
   ]
  },
  {
   "cell_type": "code",
   "execution_count": 77,
   "metadata": {
    "collapsed": false
   },
   "outputs": [],
   "source": [
    "success_adj = success + s_est.reshape(1,-1)\n",
    "failure_adj = failure + f_est.reshape(1,-1)\n",
    "success_rate_adj = success_adj/(success_adj+failure_adj)"
   ]
  },
  {
   "cell_type": "code",
   "execution_count": 93,
   "metadata": {
    "collapsed": false
   },
   "outputs": [
    {
     "data": {
      "text/plain": [
       "(4, 6, 0.39999999996, 0.19824255753879078)"
      ]
     },
     "execution_count": 93,
     "metadata": {},
     "output_type": "execute_result"
    }
   ],
   "source": [
    "# np.argmax(success_rate_adj[:,3])\n",
    "success[753765,3],failure[753765,3],success_rate[753765,3],success_rate_adj[753765,3]"
   ]
  },
  {
   "cell_type": "markdown",
   "metadata": {},
   "source": [
    "## Bandit"
   ]
  },
  {
   "cell_type": "code",
   "execution_count": 11,
   "metadata": {
    "collapsed": false
   },
   "outputs": [
    {
     "data": {
      "text/plain": [
       "KMeans(algorithm='auto', copy_x=True, init='k-means++', max_iter=300,\n",
       "       n_clusters=6, n_init=10, n_jobs=None, precompute_distances='auto',\n",
       "       random_state=None, tol=0.0001, verbose=0)"
      ]
     },
     "execution_count": 11,
     "metadata": {},
     "output_type": "execute_result"
    }
   ],
   "source": []
  },
  {
   "cell_type": "code",
   "execution_count": 12,
   "metadata": {
    "collapsed": false
   },
   "outputs": [
    {
     "data": {
      "text/plain": [
       "array([[[0.00083584, 0.00161227, 0.00393316, 0.00100523, 0.00053159],\n",
       "        [0.        , 0.        , 0.        , 0.        , 0.        ],\n",
       "        [0.        , 0.        , 0.        , 0.        , 0.        ],\n",
       "        [0.        , 0.        , 0.        , 0.        , 0.        ],\n",
       "        [0.        , 0.        , 0.        , 0.        , 0.        ],\n",
       "        [0.        , 0.        , 0.        , 0.        , 0.        ]],\n",
       "\n",
       "       [[0.00160689, 0.00285626, 0.00729802, 0.00433615, 0.00109899],\n",
       "        [0.        , 0.        , 0.        , 0.        , 0.        ],\n",
       "        [0.        , 0.        , 0.        , 0.        , 0.        ],\n",
       "        [0.        , 0.        , 0.        , 0.        , 0.        ],\n",
       "        [0.        , 0.        , 0.        , 0.        , 0.        ],\n",
       "        [0.        , 0.        , 0.        , 0.        , 0.        ]],\n",
       "\n",
       "       [[0.00130575, 0.00337746, 0.00222408, 0.0031693 , 0.00191778],\n",
       "        [0.        , 0.        , 0.        , 0.        , 0.        ],\n",
       "        [0.        , 0.        , 0.        , 0.        , 0.        ],\n",
       "        [0.        , 0.        , 0.        , 0.        , 0.        ],\n",
       "        [0.        , 0.        , 0.        , 0.        , 0.        ],\n",
       "        [0.        , 0.        , 0.        , 0.        , 0.        ]],\n",
       "\n",
       "       ...,\n",
       "\n",
       "       [[0.00056481, 0.00218263, 0.00464741, 0.0031693 , 0.00191778],\n",
       "        [0.        , 0.        , 0.        , 0.        , 0.        ],\n",
       "        [0.        , 0.        , 0.        , 0.        , 0.        ],\n",
       "        [0.        , 0.        , 0.        , 0.        , 0.        ],\n",
       "        [0.        , 0.        , 0.        , 0.        , 0.        ],\n",
       "        [0.        , 0.        , 0.        , 0.        , 0.        ]],\n",
       "\n",
       "       [[0.00208856, 0.00148308, 0.00567864, 0.00152634, 0.00109899],\n",
       "        [0.        , 0.        , 0.        , 0.        , 0.        ],\n",
       "        [0.        , 0.        , 0.        , 0.        , 0.        ],\n",
       "        [0.        , 0.        , 0.        , 0.        , 0.        ],\n",
       "        [0.        , 0.        , 0.        , 0.        , 0.        ],\n",
       "        [0.        , 0.        , 0.        , 0.        , 0.        ]],\n",
       "\n",
       "       [[0.00208856, 0.00285626, 0.00729802, 0.00433615, 0.0005928 ],\n",
       "        [0.        , 0.        , 0.        , 0.        , 0.        ],\n",
       "        [0.        , 0.        , 0.        , 0.        , 0.        ],\n",
       "        [0.        , 0.        , 0.        , 0.        , 0.        ],\n",
       "        [0.        , 0.        , 0.        , 0.        , 0.        ],\n",
       "        [0.        , 0.        , 0.        , 0.        , 0.        ]]])"
      ]
     },
     "execution_count": 12,
     "metadata": {},
     "output_type": "execute_result"
    }
   ],
   "source": [
    "\n"
   ]
  },
  {
   "cell_type": "code",
   "execution_count": null,
   "metadata": {
    "collapsed": true
   },
   "outputs": [],
   "source": []
  }
 ],
 "metadata": {
  "anaconda-cloud": {},
  "kernelspec": {
   "display_name": "Python [conda env:keras]",
   "language": "python",
   "name": "conda-env-keras-py"
  },
  "language_info": {
   "codemirror_mode": {
    "name": "ipython",
    "version": 3
   },
   "file_extension": ".py",
   "mimetype": "text/x-python",
   "name": "python",
   "nbconvert_exporter": "python",
   "pygments_lexer": "ipython3",
   "version": "3.6.8"
  }
 },
 "nbformat": 4,
 "nbformat_minor": 1
}
